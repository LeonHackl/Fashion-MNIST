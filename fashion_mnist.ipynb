{
 "cells": [
  {
   "cell_type": "markdown",
   "metadata": {},
   "source": [
    "## Import Data"
   ]
  },
  {
   "cell_type": "code",
   "execution_count": 1,
   "metadata": {},
   "outputs": [
    {
     "name": "stdout",
     "output_type": "stream",
     "text": [
      "Downloading data from https://storage.googleapis.com/tensorflow/tf-keras-datasets/train-labels-idx1-ubyte.gz\n",
      "32768/29515 [=================================] - 0s 0us/step\n",
      "Downloading data from https://storage.googleapis.com/tensorflow/tf-keras-datasets/train-images-idx3-ubyte.gz\n",
      "26427392/26421880 [==============================] - 2s 0us/step\n",
      "Downloading data from https://storage.googleapis.com/tensorflow/tf-keras-datasets/t10k-labels-idx1-ubyte.gz\n",
      "8192/5148 [===============================================] - 0s 1us/step\n",
      "Downloading data from https://storage.googleapis.com/tensorflow/tf-keras-datasets/t10k-images-idx3-ubyte.gz\n",
      "4423680/4422102 [==============================] - 0s 0us/step\n"
     ]
    }
   ],
   "source": [
    "import pandas as pd\n",
    "import numpy as np\n",
    "import tensorflow as tf\n",
    "from tensorflow import keras\n",
    "\n",
    "# Load data\n",
    "data = keras.datasets.fashion_mnist\n",
    "(X_train, y_train), (X_test, y_test) = data.load_data()\n",
    "\n",
    "# Reshape and normalize data\n",
    "X_train = (X_train.reshape(X_train.shape[0], X_train.shape[1] * X_train.shape[2])) / 255\n",
    "X_test = (X_test.reshape(X_test.shape[0], X_test.shape[1] * X_test.shape[2])) / 255"
   ]
  },
  {
   "cell_type": "code",
   "execution_count": 2,
   "metadata": {},
   "outputs": [
    {
     "data": {
      "text/plain": [
       "((60000, 784), (10000, 784), (60000,), (10000,))"
      ]
     },
     "execution_count": 2,
     "metadata": {},
     "output_type": "execute_result"
    }
   ],
   "source": [
    "X_train.shape, X_test.shape, y_train.shape, y_test.shape"
   ]
  },
  {
   "cell_type": "markdown",
   "metadata": {},
   "source": [
    "## Perceptron Benchmark"
   ]
  },
  {
   "cell_type": "code",
   "execution_count": 6,
   "metadata": {},
   "outputs": [
    {
     "name": "stdout",
     "output_type": "stream",
     "text": [
      "Benchmark Accuracy : 0.7834\n"
     ]
    }
   ],
   "source": [
    "from sklearn.linear_model import Perceptron\n",
    "\n",
    "perceptron = Perceptron()\n",
    "perceptron.fit(X_train, y_train)\n",
    "print(\"Benchmark Accuracy : \" + str(perceptron.score(X_test, y_test)))"
   ]
  },
  {
   "cell_type": "markdown",
   "metadata": {},
   "source": [
    "## MLP with Hyperparameter Optimization"
   ]
  },
  {
   "cell_type": "code",
   "execution_count": 8,
   "metadata": {},
   "outputs": [],
   "source": [
    "# Split into training and validation sets for MLP\n",
    "X_train, X_val = X_train[5000:], X_train[:5000]\n",
    "y_train, y_val = y_train[5000:], y_train[:5000]"
   ]
  },
  {
   "cell_type": "code",
   "execution_count": 31,
   "metadata": {},
   "outputs": [],
   "source": [
    "import kerastuner as kt\n",
    "\n",
    "def build_model(hp):\n",
    "    \n",
    "    # Create a sequential MLP model\n",
    "    model = keras.Sequential()\n",
    "    \n",
    "    # Input layer with 784 neurons\n",
    "    model.add(keras.layers.Input(shape = (784,)))\n",
    "    \n",
    "    # Add batch normalization for normalizing input\n",
    "    keras.layers.BatchNormalization()\n",
    "    \n",
    "    # Tune the number of TLU's in the first dense layer\n",
    "    # First hidden layer with ReLU activation function and He initialization\n",
    "    hp_units_1 = hp.Int(\"units_1\", min_value = 64, max_value = 512, step = 64)\n",
    "    model.add(keras.layers.Dense(units = hp_units_1, activation = \"elu\", \n",
    "                                 kernel_initializer = \"he_normal\", use_bias = False))\n",
    "      \n",
    "    # Add batch normalization for normalizing input\n",
    "    keras.layers.BatchNormalization()\n",
    "    \n",
    "    # Tune the number of TLU's in the second dense layer\n",
    "    # Second hidden layer with ReLU activation function and He initialization\n",
    "    hp_units_2 = hp.Int(\"units_2\", min_value = 64, max_value = 512, step = 64)\n",
    "    model.add(keras.layers.Dense(units = hp_units_2, activation = \"elu\", \n",
    "                                 kernel_initializer = \"he_normal\", use_bias = False))\n",
    "    \n",
    "    # Add batch normalization for normalizing input\n",
    "    keras.layers.BatchNormalization()\n",
    "    \n",
    "    # Output layer with 1 TLU per class (10) and softmax activation function\n",
    "    model.add(keras.layers.Dense(10, activation = \"softmax\"))\n",
    "    \n",
    "    # Tune the learning rate for the optimizer \n",
    "    hp_learning_rate = hp.Choice(\"learning_rate\", values = [1e-2, 1e-3, 1e-4]) \n",
    "    model.compile(optimizer = keras.optimizers.Adam(learning_rate = hp_learning_rate),\n",
    "                loss = keras.losses.SparseCategoricalCrossentropy(), metrics = [\"accuracy\"])\n",
    "  \n",
    "    return model"
   ]
  },
  {
   "cell_type": "code",
   "execution_count": 32,
   "metadata": {},
   "outputs": [],
   "source": [
    "# Instantiate the tuner to perform the hypertuning using the hyperband tuner\n",
    "tuner = kt.Hyperband(build_model,\n",
    "                     objective = \"val_accuracy\", \n",
    "                     max_epochs = 10,\n",
    "                     factor = 3, \n",
    "                     overwrite = True)"
   ]
  },
  {
   "cell_type": "code",
   "execution_count": 33,
   "metadata": {},
   "outputs": [
    {
     "data": {
      "text/html": [
       "<span style=\"color:#4527A0\"><h1 style=\"font-size:18px\">Trial complete</h1></span>"
      ],
      "text/plain": [
       "<IPython.core.display.HTML object>"
      ]
     },
     "metadata": {},
     "output_type": "display_data"
    },
    {
     "data": {
      "text/html": [
       "<span style=\"color:#4527A0\"><h1 style=\"font-size:18px\">Trial summary</h1></span>"
      ],
      "text/plain": [
       "<IPython.core.display.HTML object>"
      ]
     },
     "metadata": {},
     "output_type": "display_data"
    },
    {
     "data": {
      "text/html": [
       "<span style=\"color:cyan\"> |-Trial ID: ff5fc0aa9f5257af9bcea4a3b9ea0eb3</span>"
      ],
      "text/plain": [
       "<IPython.core.display.HTML object>"
      ]
     },
     "metadata": {},
     "output_type": "display_data"
    },
    {
     "data": {
      "text/html": [
       "<span style=\"color:cyan\"> |-Score: 0.8700000047683716</span>"
      ],
      "text/plain": [
       "<IPython.core.display.HTML object>"
      ]
     },
     "metadata": {},
     "output_type": "display_data"
    },
    {
     "data": {
      "text/html": [
       "<span style=\"color:cyan\"> |-Best step: 0</span>"
      ],
      "text/plain": [
       "<IPython.core.display.HTML object>"
      ]
     },
     "metadata": {},
     "output_type": "display_data"
    },
    {
     "data": {
      "text/html": [
       "<span style=\"color:#7E57C2\"><h2 style=\"font-size:16px\">Hyperparameters:</h2></span>"
      ],
      "text/plain": [
       "<IPython.core.display.HTML object>"
      ]
     },
     "metadata": {},
     "output_type": "display_data"
    },
    {
     "data": {
      "text/html": [
       "<span style=\"color:cyan\"> |-learning_rate: 0.01</span>"
      ],
      "text/plain": [
       "<IPython.core.display.HTML object>"
      ]
     },
     "metadata": {},
     "output_type": "display_data"
    },
    {
     "data": {
      "text/html": [
       "<span style=\"color:blue\"> |-tuner/bracket: 0</span>"
      ],
      "text/plain": [
       "<IPython.core.display.HTML object>"
      ]
     },
     "metadata": {},
     "output_type": "display_data"
    },
    {
     "data": {
      "text/html": [
       "<span style=\"color:cyan\"> |-tuner/epochs: 10</span>"
      ],
      "text/plain": [
       "<IPython.core.display.HTML object>"
      ]
     },
     "metadata": {},
     "output_type": "display_data"
    },
    {
     "data": {
      "text/html": [
       "<span style=\"color:blue\"> |-tuner/initial_epoch: 0</span>"
      ],
      "text/plain": [
       "<IPython.core.display.HTML object>"
      ]
     },
     "metadata": {},
     "output_type": "display_data"
    },
    {
     "data": {
      "text/html": [
       "<span style=\"color:cyan\"> |-tuner/round: 0</span>"
      ],
      "text/plain": [
       "<IPython.core.display.HTML object>"
      ]
     },
     "metadata": {},
     "output_type": "display_data"
    },
    {
     "data": {
      "text/html": [
       "<span style=\"color:blue\"> |-units_1: 384</span>"
      ],
      "text/plain": [
       "<IPython.core.display.HTML object>"
      ]
     },
     "metadata": {},
     "output_type": "display_data"
    },
    {
     "data": {
      "text/html": [
       "<span style=\"color:cyan\"> |-units_2: 128</span>"
      ],
      "text/plain": [
       "<IPython.core.display.HTML object>"
      ]
     },
     "metadata": {},
     "output_type": "display_data"
    },
    {
     "name": "stdout",
     "output_type": "stream",
     "text": [
      "INFO:tensorflow:Oracle triggered exit\n",
      "The hyperparameter search is complete. The optimal number of TLU's in the first densely-connected\n",
      "layer is 384, the optimal number of TLU's in the second densely-connected\n",
      "layer is 320. The learning rate for the optimizer is 0.001.\n"
     ]
    }
   ],
   "source": [
    "import IPython\n",
    "\n",
    "# Define a callback to clear the training outputs at the end of every training step\n",
    "class ClearTrainingOutput(tf.keras.callbacks.Callback):\n",
    "    def on_train_end(*args, **kwargs):\n",
    "        IPython.display.clear_output(wait = True)\n",
    "\n",
    "# Run the hyperparameter search\n",
    "tuner.search(X_train, y_train, epochs = 10, validation_data = (X_val, y_val), \n",
    "             callbacks = [ClearTrainingOutput(), keras.callbacks.EarlyStopping(patience = 5)], verbose = 0)\n",
    "\n",
    "# Get the optimal hyperparameters\n",
    "best_hps = tuner.get_best_hyperparameters(num_trials = 1)[0]\n",
    "\n",
    "print(f\"\"\"The hyperparameter search is complete. The optimal number of TLU's in the first densely-connected\n",
    "layer is {best_hps.get(\"units_1\")}, the optimal number of TLU's in the second densely-connected\n",
    "layer is {best_hps.get(\"units_2\")}. The learning rate for the optimizer is {best_hps.get(\"learning_rate\")}.\"\"\")"
   ]
  },
  {
   "cell_type": "code",
   "execution_count": 34,
   "metadata": {},
   "outputs": [],
   "source": [
    "# Retrain the model with the optimal hyperparameters\n",
    "model = tuner.hypermodel.build(best_hps)\n",
    "history = model.fit(X_train, y_train, epochs = 30, validation_data = (X_val, y_val), \n",
    "                    verbose = 0, callbacks = [keras.callbacks.EarlyStopping(patience = 5)])"
   ]
  },
  {
   "cell_type": "code",
   "execution_count": 35,
   "metadata": {},
   "outputs": [
    {
     "data": {
      "image/png": "[encoded data removed]",
      "text/plain": [
       "<Figure size 720x360 with 1 Axes>"
      ]
     },
     "metadata": {
      "image/png": {
       "height": 299,
       "width": 589
      },
      "needs_background": "light"
     },
     "output_type": "display_data"
    }
   ],
   "source": [
    "import matplotlib.pyplot as plt\n",
    "import seaborn as sns\n",
    "from matplotlib import style\n",
    "from matplotlib.pyplot import plot\n",
    "\n",
    "# Set style for visualizations\n",
    "style.use(\"seaborn-whitegrid\")\n",
    "%matplotlib inline\n",
    "%config InlineBackend.figure_format = \"retina\"\n",
    "\n",
    "# Plot loss and accuracy\n",
    "pd.DataFrame(history.history).plot(figsize = (10,5), linewidth = 2)\n",
    "plt.show()"
   ]
  },
  {
   "cell_type": "code",
   "execution_count": 36,
   "metadata": {},
   "outputs": [
    {
     "name": "stdout",
     "output_type": "stream",
     "text": [
      "313/313 [==============================] - ETA: 0s - loss: 0.8632 - accuracy: 0.87 - ETA: 0s - loss: 0.3551 - accuracy: 0.88 - ETA: 0s - loss: 0.3797 - accuracy: 0.88 - ETA: 0s - loss: 0.4001 - accuracy: 0.87 - ETA: 0s - loss: 0.4058 - accuracy: 0.87 - ETA: 0s - loss: 0.3964 - accuracy: 0.87 - 0s 925us/step - loss: 0.3921 - accuracy: 0.8812\n"
     ]
    },
    {
     "data": {
      "text/plain": [
       "[0.39212357997894287, 0.8812000155448914]"
      ]
     },
     "execution_count": 36,
     "metadata": {},
     "output_type": "execute_result"
    }
   ],
   "source": [
    "# Evaluate performance on test data\n",
    "model.evaluate(X_test, y_test)"
   ]
  }
 ],
 "metadata": {
  "kernelspec": {
   "display_name": "Python 3",
   "language": "python",
   "name": "python3"
  },
  "language_info": {
   "codemirror_mode": {
    "name": "ipython",
    "version": 3
   },
   "file_extension": ".py",
   "mimetype": "text/x-python",
   "name": "python",
   "nbconvert_exporter": "python",
   "pygments_lexer": "ipython3",
   "version": "3.8.6"
  }
 },
 "nbformat": 4,
 "nbformat_minor": 4
}
